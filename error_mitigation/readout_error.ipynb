{
 "cells": [
  {
   "cell_type": "markdown",
   "metadata": {},
   "source": [
    "# Read-out Error\n"
   ]
  },
  {
   "cell_type": "code",
   "execution_count": 66,
   "metadata": {},
   "outputs": [],
   "source": [
    "# import packages\n",
    "import numpy as np\n",
    "import scipy as sp\n",
    "\n",
    "import qiskit_aer.noise as noise\n",
    "from qiskit_aer.noise.errors import coherent_unitary_error, amplitude_damping_error, ReadoutError\n",
    "from qiskit.circuit.library import RXGate\n",
    "\n",
    "from qiskit_aer.primitives import SamplerV2 as Sampler\n",
    "from qiskit.circuit import QuantumCircuit\n",
    "from qiskit.circuit.random import random_circuit\n",
    "from qiskit.quantum_info import SparsePauliOp\n",
    "\n",
    "from qiskit_ibm_runtime.fake_provider import FakePerth\n",
    "from qiskit_aer import AerSimulator\n",
    "from qiskit import transpile\n",
    "from qiskit_aer.noise import NoiseModel"
   ]
  },
  {
   "cell_type": "code",
   "execution_count": 71,
   "metadata": {},
   "outputs": [],
   "source": [
    "def compute_matrix(X):\n",
    "    \"\"\"\n",
    "    args:\n",
    "        X: np.darray (Nx2) probability of false result from most to least significant bit\n",
    "    returns:\n",
    "        output: np.darray (2^N x 2^N) matrix of readout errors\n",
    "    \"\"\"\n",
    "    # cast to np array\n",
    "    try:\n",
    "        X = np.array(X)\n",
    "    except Exception as exception:\n",
    "        print(\"Must pass in valid datatype: array of numbers.\")\n",
    "        print(exception)\n",
    "    \n",
    "    # check array dimensions\n",
    "    D = X.shape[1]\n",
    "    if D != 2:\n",
    "        raise ValueError(\"Input probabilities must be in form [[probability of error when prepared 0, probability of error when prepared 1], ...]\")\n",
    "\n",
    "    # number data points\n",
    "    N = X.shape[0]\n",
    "\n",
    "    output = np.ones((1, 1))\n",
    "\n",
    "    SIGN = np.array([[-1, 1], [1, -1]])\n",
    "\n",
    "    # goal shape: 2^N x 2^N\n",
    "    for i in range(N):\n",
    "        # obtain confusion matrix\n",
    "        p_i = X[i].reshape((2, 1)) # [[FN], [FP]]\n",
    "        p_i = p_i * SIGN # [[-FN, FN], [FP, -FP]]\n",
    "        p_i = p_i + np.eye(2) # [[TN, FN], [FP, TP]]\n",
    "\n",
    "        # reshape matrices\n",
    "        p_i_flattened = p_i.reshape((1, p_i.size))\n",
    "\n",
    "        # recursively calculate dimensions\n",
    "        output_new = np.ones((2 * output.shape[0], 2 * output.shape[0])) \n",
    "\n",
    "        # i\n",
    "        for j in range(output.shape[0]):\n",
    "            row = output[j].reshape((output[j].size, 1))\n",
    "\n",
    "            prod = row * p_i_flattened # shape output[j].size x 4\n",
    "            output_new[(2 * j)] = prod[:, 0:2].flatten()\n",
    "            output_new[(2 * j + 1)] = prod[:, 2:4].flatten()\n",
    "\n",
    "        output = output_new\n",
    "\n",
    "    return output"
   ]
  },
  {
   "cell_type": "code",
   "execution_count": null,
   "metadata": {},
   "outputs": [],
   "source": [
    "def iteration(matrix, p):\n",
    "\tSIGN = np.array([[-1, 1], [1, -1]])\n",
    "\t\n",
    "\tp = p.reshape((2, 1))\n",
    "\tp = p * SIGN\n",
    "\tp = p + np.eye(2)\n",
    "\n",
    "\t# reshape matrices\n",
    "\tp_flattened = p.reshape((1, p.size))\n",
    "\n",
    "\t# recursively calculate dimensions\n",
    "\tmatrix_new = np.ones((2 * matrix.shape[0], 2*matrix.shape[0]))\n",
    "\n",
    "\tfor j in range(matrix.shape[0]):\n",
    "\t\trow = matrix[j].reshape((matrix[j].size, 1))\n",
    "\t\tprod = row * p_flattened\n",
    "\t\tmatrix_new[(2*j)] = prod[:, 0:2].flatten()\n",
    "\t\tmatrix_new[(2*j + 1)] = prod[:, 2:4].flatten()\n",
    "\t\n",
    "\treturn matrix\n",
    "\n",
    "\t\n",
    "def get_readout_error_matrix_iterative(X):\n",
    "\t\"\"\"\n",
    "\targs:\n",
    "\t\tX: np.darray (Nx2) probability of false result from most to least significant bit\n",
    "\treturns:\n",
    "\t\toutput: np.darray (2^N x 2^N) matrix of readout errors\n",
    "\t\"\"\"\n",
    "\t# cast to np array\n",
    "\ttry:\n",
    "\t\tX = np.array(X)\n",
    "\texcept Exception as exception:\n",
    "\t\tprint(\"Must pass in valid datatype: array of numbers.\")\n",
    "\t\tprint(exception)\n",
    "\t\n",
    "\t# check array dimensions\n",
    "\tD = X.shape[1]\n",
    "\tif D != 2:\n",
    "\t\traise ValueError(\"Input probabilities must be in form [[probability of error when prepared 0, probability of error when prepared 1], ...]\")\n",
    "\n",
    "\t# number data points\n",
    "\tN = X.shape[0]\n",
    "\n",
    "\toutput = np.ones((1, 1))\n",
    "\n",
    "\t# goal shape: 2^N x 2^N\n",
    "\tfor i in range(N):\n",
    "\t\toutput = iteration(output, X[i])\n",
    "\n",
    "\treturn output"
   ]
  },
  {
   "cell_type": "code",
   "execution_count": null,
   "metadata": {},
   "outputs": [
    {
     "data": {
      "text/plain": [
       "array([[0.99, 0.01],\n",
       "       [0.03, 0.97]])"
      ]
     },
     "execution_count": 6,
     "metadata": {},
     "output_type": "execute_result"
    }
   ],
   "source": [
    "probabilities = [\n",
    "    [0.01, 0.03]\n",
    "]\n",
    "compute_matrix(probabilities)"
   ]
  },
  {
   "cell_type": "code",
   "execution_count": null,
   "metadata": {},
   "outputs": [
    {
     "data": {
      "text/plain": [
       "array([[9.405e-01, 4.950e-02, 9.500e-03, 5.000e-04],\n",
       "       [1.980e-02, 9.702e-01, 2.000e-04, 9.800e-03],\n",
       "       [2.850e-02, 1.500e-03, 9.215e-01, 4.850e-02],\n",
       "       [6.000e-04, 2.940e-02, 1.940e-02, 9.506e-01]])"
      ]
     },
     "execution_count": 7,
     "metadata": {},
     "output_type": "execute_result"
    }
   ],
   "source": [
    "probabilities = [\n",
    "    [0.01, 0.03],\n",
    "    [0.05, 0.02]\n",
    "]\n",
    "compute_matrix(probabilities)"
   ]
  },
  {
   "cell_type": "code",
   "execution_count": 8,
   "metadata": {},
   "outputs": [],
   "source": [
    "def string_to_int_array(X):\n",
    "    return np.array(list(X)).astype(\"i\")"
   ]
  },
  {
   "cell_type": "code",
   "execution_count": 9,
   "metadata": {},
   "outputs": [],
   "source": [
    "def get_probabilities_of_one(data):\n",
    "\t\"\"\"\n",
    "\targs:\n",
    "\t\tdata (dict) dictionary of {\"outcome\": counts}\n",
    "\n",
    "\treturns:\n",
    "\t\tprobabilities (1xN array) the value at index i is the probability of measuring a 1\n",
    "\t\"\"\"\n",
    "\n",
    "\tN = len(list(data.keys())[0])\n",
    "\t\n",
    "\ttotal_counts = np.zeros(N)\n",
    "\n",
    "\tfor key in list(data.keys()):\n",
    "\t\tcounts = data[key]\n",
    "\n",
    "\t\tarr = string_to_int_array(key)\n",
    "\t\t\n",
    "\t\ttotal_counts = total_counts + (counts * arr)\n",
    "\t\n",
    "\tnshots = np.sum(list(data.values()))\n",
    "\n",
    "\tprobabilities = total_counts / nshots\n",
    "\n",
    "\treturn probabilities"
   ]
  },
  {
   "cell_type": "code",
   "execution_count": 75,
   "metadata": {},
   "outputs": [],
   "source": [
    "def get_calibration_matrix(backend, N, nshots=1024):\n",
    "\t\"\"\"\n",
    "\tComputes the readout error matrix for N qubits.\n",
    "\t\n",
    "\targs:\n",
    "\t\tbackend (FakeBackend): \tgiven backend\n",
    "\t\tN (int):\t\t\t\tnumber qubits\n",
    "\t\tnshots:\t\t\t\t\toptional number of shots to take in computation\n",
    "\t\t\n",
    "\treturns:\n",
    "\t\tcalibration_matrix (2^N x 2^N):\tmatrix to be applied to results for readout error mitigation.\n",
    "\t\"\"\"\n",
    "\tzeros = QuantumCircuit(N)\n",
    "\tzeros.measure_all()\n",
    "\n",
    "\tones = QuantumCircuit(N)\n",
    "\tones.x(list(range(N)))\n",
    "\tones.measure_all()\n",
    "\t\n",
    "\tnoise_model = NoiseModel.from_backend(backend)\n",
    "\tsampler = Sampler(options={\n",
    "\t\t'backend_options': {\n",
    "\t\t\t'noise_model': noise_model\n",
    "\t\t}\n",
    "\t})\n",
    "\n",
    "\tzeros_transpiled = transpile(zeros, backend)\n",
    "\tzeros_job = sampler.run([zeros_transpiled], shots=nshots)\n",
    "\tzeros_pub_result = zeros_job.result()[0]\n",
    "\n",
    "\tzeros_counts = zeros_pub_result.data.meas.get_counts()\n",
    "\n",
    "\n",
    "\tones_transpiled = transpile(ones, backend)\n",
    "\tones_job = sampler.run([ones_transpiled], shots=nshots)\n",
    "\tones_pub_result = ones_job.result()[0]\n",
    "\n",
    "\tones_counts = ones_pub_result.data.meas.get_counts()\n",
    "\n",
    "\tones_false_probs = 1 - get_probabilities_of_one(ones_counts)\n",
    "\tzeros_false_probs = get_probabilities_of_one(zeros_counts)\n",
    "\n",
    "\tzipped = np.array([zeros_false_probs, ones_false_probs]).T\n",
    "\terror_matrix = compute_matrix(zipped)\n",
    "\n",
    "\t# perform LU factorization\n",
    "\tP, L, U = sp.linalg.lu(error_matrix.T)\n",
    "\n",
    "\t# invert the L and U matrices\n",
    "\tL_inv = sp.linalg.inv(L)\n",
    "\tU_inv = sp.linalg.inv(U)\n",
    "\n",
    "\t# compute inverse\n",
    "\tcalibration_matrix = U_inv @ L_inv\n",
    "\n",
    "\treturn calibration_matrix"
   ]
  },
  {
   "cell_type": "code",
   "execution_count": 76,
   "metadata": {},
   "outputs": [],
   "source": [
    "def to_string(x, N):\n",
    "\treturn str(bin(x)).replace(\"0b\", \"\").zfill(N)\n",
    "\n",
    "def to_vector(counts):\n",
    "\t\"\"\" \n",
    "\tReturns a vector of the counts, where the ith position is number of counts for result 0bi.\n",
    "\n",
    "\t\"\"\"\n",
    "\tN = len(list(counts.keys())[0])\n",
    "\tkeys = list(counts.keys())\n",
    "\n",
    "\tvector = np.zeros(2**N)\n",
    "\t\n",
    "\tfor i in range(0, 2**N):\n",
    "\t\tkey = to_string(i, N)\n",
    "\n",
    "\t\tif key in keys:\n",
    "\t\t\tvector[i] = counts[key]\n",
    "\n",
    "\treturn vector\n",
    "\n",
    "def to_dict(vector):\n",
    "\tcounts = {}\n",
    "\ttotal_states = vector.shape[0]\n",
    "\tN = int(np.log2(total_states))\n",
    "\n",
    "\tfor i in range(0, total_states):\n",
    "\t\tkey = to_string(i, N)\n",
    "\t\tvalue = round(vector[i])\n",
    "\t\tif value != 0:\n",
    "\t\t\tcounts[key] = round(vector[i])\n",
    "\n",
    "\treturn counts"
   ]
  },
  {
   "cell_type": "markdown",
   "metadata": {},
   "source": [
    "## Basic Readout Error\n",
    "\n",
    "We consider a simple case of read-out error mitigation."
   ]
  },
  {
   "cell_type": "code",
   "execution_count": 77,
   "metadata": {},
   "outputs": [],
   "source": [
    "backend = AerSimulator.from_backend(FakePerth())\n",
    "\n",
    "N = 7\n",
    "calibration_matrix = get_calibration_matrix(backend, N)"
   ]
  },
  {
   "cell_type": "markdown",
   "metadata": {},
   "source": [
    "## Testing"
   ]
  },
  {
   "cell_type": "code",
   "execution_count": 78,
   "metadata": {},
   "outputs": [
    {
     "data": {
      "text/html": [
       "<pre style=\"word-wrap: normal;white-space: pre;background: #fff0;line-height: 1.1;font-family: &quot;Courier New&quot;,Courier,monospace\">           ┌──────┐           ┌─┐                  \n",
       "q_0: ──────┤1     ├───────────┤M├──────────────────\n",
       "           │      │      ┌───┐└╥┘┌─┐               \n",
       "q_1: ──────┤  Dcx ├──────┤ Y ├─╫─┤M├───────────────\n",
       "           │      │      └─┬─┘ ║ └╥┘┌─┐            \n",
       "q_2: ──────┤0     ├────────┼───╫──╫─┤M├────────────\n",
       "          ┌┴──────┴┐       │   ║  ║ └╥┘┌─┐         \n",
       "q_3: ─────┤0       ├───────┼───╫──╫──╫─┤M├─────────\n",
       "          │  Iswap │       │   ║  ║  ║ └╥┘┌─┐      \n",
       "q_4: ─────┤1       ├───────┼───╫──╫──╫──╫─┤M├──────\n",
       "     ┌────┴────────┴────┐  │   ║  ║  ║  ║ └╥┘┌─┐   \n",
       "q_5: ┤ R(4.8482,3.1423) ├──┼───╫──╫──╫──╫──╫─┤M├───\n",
       "     └──────────────────┘  │   ║  ║  ║  ║  ║ └╥┘┌─┐\n",
       "q_6: ──────────────────────■───╫──╫──╫──╫──╫──╫─┤M├\n",
       "                               ║  ║  ║  ║  ║  ║ └╥┘\n",
       "c: 7/══════════════════════════╩══╩══╩══╩══╩══╩══╩═\n",
       "                               0  1  2  3  4  5  6 </pre>"
      ],
      "text/plain": [
       "           ┌──────┐           ┌─┐                  \n",
       "q_0: ──────┤1     ├───────────┤M├──────────────────\n",
       "           │      │      ┌───┐└╥┘┌─┐               \n",
       "q_1: ──────┤  Dcx ├──────┤ Y ├─╫─┤M├───────────────\n",
       "           │      │      └─┬─┘ ║ └╥┘┌─┐            \n",
       "q_2: ──────┤0     ├────────┼───╫──╫─┤M├────────────\n",
       "          ┌┴──────┴┐       │   ║  ║ └╥┘┌─┐         \n",
       "q_3: ─────┤0       ├───────┼───╫──╫──╫─┤M├─────────\n",
       "          │  Iswap │       │   ║  ║  ║ └╥┘┌─┐      \n",
       "q_4: ─────┤1       ├───────┼───╫──╫──╫──╫─┤M├──────\n",
       "     ┌────┴────────┴────┐  │   ║  ║  ║  ║ └╥┘┌─┐   \n",
       "q_5: ┤ R(4.8482,3.1423) ├──┼───╫──╫──╫──╫──╫─┤M├───\n",
       "     └──────────────────┘  │   ║  ║  ║  ║  ║ └╥┘┌─┐\n",
       "q_6: ──────────────────────■───╫──╫──╫──╫──╫──╫─┤M├\n",
       "                               ║  ║  ║  ║  ║  ║ └╥┘\n",
       "c: 7/══════════════════════════╩══╩══╩══╩══╩══╩══╩═\n",
       "                               0  1  2  3  4  5  6 "
      ]
     },
     "execution_count": 78,
     "metadata": {},
     "output_type": "execute_result"
    }
   ],
   "source": [
    "# define the circuit\n",
    "from qiskit.circuit.random import random_circuit\n",
    "\n",
    "nshots = 1024\n",
    " \n",
    "# generate a random circuit\n",
    "circuit = random_circuit(N, 1, measure=True)\n",
    "circuit.draw()"
   ]
  },
  {
   "cell_type": "code",
   "execution_count": 79,
   "metadata": {},
   "outputs": [
    {
     "data": {
      "text/plain": [
       "{'0000000': 588, '0100000': 436}"
      ]
     },
     "execution_count": 79,
     "metadata": {},
     "output_type": "execute_result"
    }
   ],
   "source": [
    "# get ideal results\n",
    "ideal_backend = AerSimulator()\n",
    "\n",
    "ideal_transpiled = transpile(circuit, ideal_backend)\n",
    "ideal_result = ideal_backend.run(ideal_transpiled).result()\n",
    "ideal_counts = ideal_result.get_counts(ideal_transpiled)\n",
    "ideal_counts"
   ]
  },
  {
   "cell_type": "code",
   "execution_count": 80,
   "metadata": {},
   "outputs": [],
   "source": [
    "# get the noisy results\n",
    "noisy_backend = FakePerth()\n",
    "noise_model = NoiseModel.from_backend(noisy_backend)\n",
    "sampler = Sampler(options={\n",
    "    'backend_options': {\n",
    "        'noise_model': noise_model\n",
    "\t}\n",
    "})\n",
    "nshots = 1024\n",
    "\n",
    "noisy_transpiled = transpile(circuit, noisy_backend)\n",
    "noisy_job = sampler.run([noisy_transpiled], shots=nshots)\n",
    "noisy_pub_result = noisy_job.result()[0]\n",
    "noisy_counts = noisy_pub_result.data.c.get_counts()"
   ]
  },
  {
   "cell_type": "code",
   "execution_count": 81,
   "metadata": {},
   "outputs": [
    {
     "data": {
      "image/png": "[encoded data removed]",
      "text/plain": [
       "<Figure size 640x480 with 1 Axes>"
      ]
     },
     "execution_count": 81,
     "metadata": {},
     "output_type": "execute_result"
    }
   ],
   "source": [
    "from qiskit.visualization import plot_histogram\n",
    "\n",
    "plot_histogram([ideal_counts, noisy_counts], legend=[\"Ideal\", \"Noisy\"])"
   ]
  },
  {
   "cell_type": "code",
   "execution_count": 82,
   "metadata": {},
   "outputs": [
    {
     "data": {
      "image/png": "[encoded data removed]",
      "text/plain": [
       "<Figure size 640x480 with 1 Axes>"
      ]
     },
     "execution_count": 82,
     "metadata": {},
     "output_type": "execute_result"
    }
   ],
   "source": [
    "# mitigate the noisy results\n",
    "noisy_probabilities = to_vector(noisy_counts) / nshots\n",
    "mitigated_probabilities = calibration_matrix @ noisy_probabilities\n",
    "mitigated_counts = to_dict(mitigated_probabilities * nshots)\n",
    "\n",
    "# plot mitigated versus ideal\n",
    "plot_histogram([ideal_counts, noisy_counts, mitigated_counts], legend=[\"Ideal\", \"Noisy\", \"Mitigated\"])"
   ]
  },
  {
   "cell_type": "markdown",
   "metadata": {},
   "source": [
    "## Batch Readout Error Mitigation"
   ]
  }
 ],
 "metadata": {
  "kernelspec": {
   "display_name": "qiskit1",
   "language": "python",
   "name": "python3"
  },
  "language_info": {
   "codemirror_mode": {
    "name": "ipython",
    "version": 3
   },
   "file_extension": ".py",
   "mimetype": "text/x-python",
   "name": "python",
   "nbconvert_exporter": "python",
   "pygments_lexer": "ipython3",
   "version": "3.12.6"
  }
 },
 "nbformat": 4,
 "nbformat_minor": 2
}
