{
 "cells": [
  {
   "cell_type": "markdown",
   "metadata": {},
   "source": [
    "# Read-out Error\n"
   ]
  },
  {
   "cell_type": "code",
   "execution_count": 1,
   "metadata": {},
   "outputs": [],
   "source": [
    "# import packages\n",
    "import numpy as np\n",
    "\n",
    "import qiskit_aer.noise as noise\n",
    "from qiskit_aer.noise.errors import coherent_unitary_error, amplitude_damping_error, ReadoutError\n",
    "from qiskit.circuit.library import RXGate\n",
    "\n",
    "from qiskit_aer.primitives import SamplerV2 as Sampler\n",
    "from qiskit.circuit import QuantumCircuit\n",
    "from qiskit.circuit.random import random_circuit\n",
    "from qiskit.quantum_info import SparsePauliOp\n",
    "\n",
    "from readout_error import convert_probabilities"
   ]
  },
  {
   "cell_type": "code",
   "execution_count": null,
   "metadata": {},
   "outputs": [],
   "source": [
    "def convert_probabilities(X):\n",
    "    \"\"\"\n",
    "    args:\n",
    "        X: np.darray (Nx2) probability of false result from most to least significant bit\n",
    "    returns:\n",
    "        output: np.darray (2^N x 2^N) matrix of readout errors\n",
    "    \"\"\"\n",
    "    # cast to np array\n",
    "    try:\n",
    "        X = np.array(X)\n",
    "    except Exception as exception:\n",
    "        print(\"Must pass in valid datatype: array of numbers.\")\n",
    "        print(exception)\n",
    "    \n",
    "    # check array dimensions\n",
    "    D = X.shape[1]\n",
    "    if D != 2:\n",
    "        raise ValueError(\"Input probabilities must be in form [[probability of error when prepared 0, probability of error when prepared 1], ...]\")\n",
    "\n",
    "    # number data points\n",
    "    N = X.shape[0]\n",
    "\n",
    "    output = np.ones((1, 1))\n",
    "\n",
    "    SIGN = np.array([[-1, 1], [1, -1]])\n",
    "\n",
    "    # goal shape: 2^N x 2^N\n",
    "    for i in range(N):\n",
    "        # obtain confusion matrix\n",
    "        p_i = X[i].reshape((2, 1)) # [[FN], [FP]]\n",
    "        p_i = p_i * SIGN # [[-FN, FN], [FP, -FP]]\n",
    "        p_i = p_i + np.eye(2) # [[TN, FN], [FP, TP]]\n",
    "\n",
    "        # reshape matrices\n",
    "        p_i_flattened = p_i.reshape((1, p_i.size))\n",
    "\n",
    "        # recursively calculate dimensions\n",
    "        output_new = np.ones((2 * output.shape[0], 2 * output.shape[0])) \n",
    "\n",
    "        # i\n",
    "        for j in range(output.shape[0]):\n",
    "            row = output[j].reshape((output[j].size, 1))\n",
    "\n",
    "            prod = row * p_i_flattened # shape output[j].size x 4\n",
    "            output_new[2 * j] = prod[:, 0:2]\n",
    "            output_new[2 * j + 1] = prod[:, 2:4]\n",
    "\n",
    "        output = output_new\n",
    "\n",
    "    return output"
   ]
  }
 ],
 "metadata": {
  "kernelspec": {
   "display_name": "qiskit1",
   "language": "python",
   "name": "python3"
  },
  "language_info": {
   "codemirror_mode": {
    "name": "ipython",
    "version": 3
   },
   "file_extension": ".py",
   "mimetype": "text/x-python",
   "name": "python",
   "nbconvert_exporter": "python",
   "pygments_lexer": "ipython3",
   "version": "3.12.6"
  }
 },
 "nbformat": 4,
 "nbformat_minor": 2
}
