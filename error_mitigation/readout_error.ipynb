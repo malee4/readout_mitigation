{
 "cells": [
  {
   "cell_type": "markdown",
   "metadata": {},
   "source": [
    "# Read-out Error\n"
   ]
  },
  {
   "cell_type": "code",
   "execution_count": 6,
   "metadata": {},
   "outputs": [],
   "source": [
    "# import packages\n",
    "import numpy as np\n",
    "\n",
    "import qiskit_aer.noise as noise\n",
    "from qiskit_aer.noise.errors import coherent_unitary_error, amplitude_damping_error, ReadoutError\n",
    "from qiskit.circuit.library import RXGate\n",
    "\n",
    "from qiskit_aer.primitives import SamplerV2 as Sampler\n",
    "from qiskit.circuit import QuantumCircuit\n",
    "from qiskit.circuit.random import random_circuit\n",
    "from qiskit.quantum_info import SparsePauliOp"
   ]
  },
  {
   "cell_type": "code",
   "execution_count": 75,
   "metadata": {},
   "outputs": [],
   "source": [
    "def get_readout_error_matrix(X):\n",
    "    \"\"\"\n",
    "    args:\n",
    "        X: np.darray (Nx2) probability of false result from most to least significant bit\n",
    "    returns:\n",
    "        output: np.darray (2^N x 2^N) matrix of readout errors\n",
    "    \"\"\"\n",
    "    # cast to np array\n",
    "    try:\n",
    "        X = np.array(X)\n",
    "    except Exception as exception:\n",
    "        print(\"Must pass in valid datatype: array of numbers.\")\n",
    "        print(exception)\n",
    "    \n",
    "    # check array dimensions\n",
    "    D = X.shape[1]\n",
    "    if D != 2:\n",
    "        raise ValueError(\"Input probabilities must be in form [[probability of error when prepared 0, probability of error when prepared 1], ...]\")\n",
    "\n",
    "    # number data points\n",
    "    N = X.shape[0]\n",
    "\n",
    "    output = np.ones((1, 1))\n",
    "\n",
    "    SIGN = np.array([[-1, 1], [1, -1]])\n",
    "\n",
    "    # goal shape: 2^N x 2^N\n",
    "    for i in range(N):\n",
    "        # obtain confusion matrix\n",
    "        p_i = X[i].reshape((2, 1)) # [[FN], [FP]]\n",
    "        p_i = p_i * SIGN # [[-FN, FN], [FP, -FP]]\n",
    "        p_i = p_i + np.eye(2) # [[TN, FN], [FP, TP]]\n",
    "\n",
    "        # reshape matrices\n",
    "        p_i_flattened = p_i.reshape((1, p_i.size))\n",
    "\n",
    "        # recursively calculate dimensions\n",
    "        output_new = np.ones((2 * output.shape[0], 2 * output.shape[0])) \n",
    "\n",
    "        # i\n",
    "        for j in range(output.shape[0]):\n",
    "            row = output[j].reshape((output[j].size, 1))\n",
    "\n",
    "            prod = row * p_i_flattened # shape output[j].size x 4\n",
    "            output_new[(2 * j)] = prod[:, 0:2].flatten()\n",
    "            output_new[(2 * j + 1)] = prod[:, 2:4].flatten()\n",
    "\n",
    "        output = output_new\n",
    "\n",
    "    return output"
   ]
  },
  {
   "cell_type": "code",
   "execution_count": null,
   "metadata": {},
   "outputs": [],
   "source": [
    "probabilities = [\n",
    "    [0.01, 0.03]\n",
    "]\n",
    "get_readout_error_matrix(probabilities)"
   ]
  },
  {
   "cell_type": "code",
   "execution_count": null,
   "metadata": {},
   "outputs": [
    {
     "data": {
      "text/plain": [
       "array([[0.99, 0.01],\n",
       "       [0.03, 0.97]])"
      ]
     },
     "execution_count": 24,
     "metadata": {},
     "output_type": "execute_result"
    }
   ],
   "source": [
    "probabilities = [\n",
    "    [0.01, 0.03],\n",
    "    [0.05, 0.02]\n",
    "]\n",
    "get_readout_error_matrix(probabilities)"
   ]
  },
  {
   "cell_type": "code",
   "execution_count": 67,
   "metadata": {},
   "outputs": [],
   "source": [
    "def string_to_int_array(X):\n",
    "    return np.array(list(X)).astype(\"i\")"
   ]
  },
  {
   "cell_type": "code",
   "execution_count": 64,
   "metadata": {},
   "outputs": [],
   "source": [
    "def get_probabilities_of_one(data):\n",
    "\t\"\"\"\n",
    "\targs:\n",
    "\t\tdata (dict) dictionary of {\"outcome\": counts}\n",
    "\n",
    "\treturns:\n",
    "\t\tprobabilities (1xN array) the value at index i is the probability of measuring a 1\n",
    "\t\"\"\"\n",
    "\n",
    "\tN = len(list(data.keys())[0])\n",
    "\t\n",
    "\ttotal_counts = np.zeros(N)\n",
    "\n",
    "\tfor key in list(data.keys()):\n",
    "\t\tcounts = data[key]\n",
    "\n",
    "\t\tarr = string_to_int_array(key)\n",
    "\t\t\n",
    "\t\ttotal_counts = total_counts + (counts * arr)\n",
    "\t\n",
    "\tnshots = np.sum(list(data.values()))\n",
    "\n",
    "\tprobabilities = total_counts / nshots\n",
    "\n",
    "\treturn probabilities"
   ]
  },
  {
   "cell_type": "markdown",
   "metadata": {},
   "source": [
    "## Basic Readout Error\n",
    "\n",
    "We consider a simple case of read-out error mitigation."
   ]
  },
  {
   "cell_type": "code",
   "execution_count": 51,
   "metadata": {},
   "outputs": [],
   "source": [
    "from qiskit_ibm_runtime.fake_provider import FakePerth\n",
    "from qiskit_aer import AerSimulator\n",
    "from qiskit import transpile\n",
    "from qiskit_aer.noise import NoiseModel\n",
    "\n",
    "backend = AerSimulator.from_backend(FakePerth())"
   ]
  },
  {
   "cell_type": "code",
   "execution_count": 44,
   "metadata": {},
   "outputs": [],
   "source": [
    "N = 7\n",
    "\n",
    "zeros = QuantumCircuit(N)\n",
    "zeros.measure_all()\n",
    "\n",
    "ones = QuantumCircuit(N)\n",
    "ones.x(list(range(N)))\n",
    "ones.measure_all()"
   ]
  },
  {
   "cell_type": "code",
   "execution_count": 45,
   "metadata": {},
   "outputs": [
    {
     "data": {
      "text/html": [
       "<pre style=\"word-wrap: normal;white-space: pre;background: #fff0;line-height: 1.1;font-family: &quot;Courier New&quot;,Courier,monospace\">         ░ ┌─┐                  \n",
       "   q_0: ─░─┤M├──────────────────\n",
       "         ░ └╥┘┌─┐               \n",
       "   q_1: ─░──╫─┤M├───────────────\n",
       "         ░  ║ └╥┘┌─┐            \n",
       "   q_2: ─░──╫──╫─┤M├────────────\n",
       "         ░  ║  ║ └╥┘┌─┐         \n",
       "   q_3: ─░──╫──╫──╫─┤M├─────────\n",
       "         ░  ║  ║  ║ └╥┘┌─┐      \n",
       "   q_4: ─░──╫──╫──╫──╫─┤M├──────\n",
       "         ░  ║  ║  ║  ║ └╥┘┌─┐   \n",
       "   q_5: ─░──╫──╫──╫──╫──╫─┤M├───\n",
       "         ░  ║  ║  ║  ║  ║ └╥┘┌─┐\n",
       "   q_6: ─░──╫──╫──╫──╫──╫──╫─┤M├\n",
       "         ░  ║  ║  ║  ║  ║  ║ └╥┘\n",
       "meas: 7/════╩══╩══╩══╩══╩══╩══╩═\n",
       "            0  1  2  3  4  5  6 </pre>"
      ],
      "text/plain": [
       "         ░ ┌─┐                  \n",
       "   q_0: ─░─┤M├──────────────────\n",
       "         ░ └╥┘┌─┐               \n",
       "   q_1: ─░──╫─┤M├───────────────\n",
       "         ░  ║ └╥┘┌─┐            \n",
       "   q_2: ─░──╫──╫─┤M├────────────\n",
       "         ░  ║  ║ └╥┘┌─┐         \n",
       "   q_3: ─░──╫──╫──╫─┤M├─────────\n",
       "         ░  ║  ║  ║ └╥┘┌─┐      \n",
       "   q_4: ─░──╫──╫──╫──╫─┤M├──────\n",
       "         ░  ║  ║  ║  ║ └╥┘┌─┐   \n",
       "   q_5: ─░──╫──╫──╫──╫──╫─┤M├───\n",
       "         ░  ║  ║  ║  ║  ║ └╥┘┌─┐\n",
       "   q_6: ─░──╫──╫──╫──╫──╫──╫─┤M├\n",
       "         ░  ║  ║  ║  ║  ║  ║ └╥┘\n",
       "meas: 7/════╩══╩══╩══╩══╩══╩══╩═\n",
       "            0  1  2  3  4  5  6 "
      ]
     },
     "execution_count": 45,
     "metadata": {},
     "output_type": "execute_result"
    }
   ],
   "source": [
    "zeros.draw()"
   ]
  },
  {
   "cell_type": "code",
   "execution_count": 46,
   "metadata": {},
   "outputs": [
    {
     "data": {
      "text/html": [
       "<pre style=\"word-wrap: normal;white-space: pre;background: #fff0;line-height: 1.1;font-family: &quot;Courier New&quot;,Courier,monospace\">        ┌───┐ ░ ┌─┐                  \n",
       "   q_0: ┤ X ├─░─┤M├──────────────────\n",
       "        ├───┤ ░ └╥┘┌─┐               \n",
       "   q_1: ┤ X ├─░──╫─┤M├───────────────\n",
       "        ├───┤ ░  ║ └╥┘┌─┐            \n",
       "   q_2: ┤ X ├─░──╫──╫─┤M├────────────\n",
       "        ├───┤ ░  ║  ║ └╥┘┌─┐         \n",
       "   q_3: ┤ X ├─░──╫──╫──╫─┤M├─────────\n",
       "        ├───┤ ░  ║  ║  ║ └╥┘┌─┐      \n",
       "   q_4: ┤ X ├─░──╫──╫──╫──╫─┤M├──────\n",
       "        ├───┤ ░  ║  ║  ║  ║ └╥┘┌─┐   \n",
       "   q_5: ┤ X ├─░──╫──╫──╫──╫──╫─┤M├───\n",
       "        ├───┤ ░  ║  ║  ║  ║  ║ └╥┘┌─┐\n",
       "   q_6: ┤ X ├─░──╫──╫──╫──╫──╫──╫─┤M├\n",
       "        └───┘ ░  ║  ║  ║  ║  ║  ║ └╥┘\n",
       "meas: 7/═════════╩══╩══╩══╩══╩══╩══╩═\n",
       "                 0  1  2  3  4  5  6 </pre>"
      ],
      "text/plain": [
       "        ┌───┐ ░ ┌─┐                  \n",
       "   q_0: ┤ X ├─░─┤M├──────────────────\n",
       "        ├───┤ ░ └╥┘┌─┐               \n",
       "   q_1: ┤ X ├─░──╫─┤M├───────────────\n",
       "        ├───┤ ░  ║ └╥┘┌─┐            \n",
       "   q_2: ┤ X ├─░──╫──╫─┤M├────────────\n",
       "        ├───┤ ░  ║  ║ └╥┘┌─┐         \n",
       "   q_3: ┤ X ├─░──╫──╫──╫─┤M├─────────\n",
       "        ├───┤ ░  ║  ║  ║ └╥┘┌─┐      \n",
       "   q_4: ┤ X ├─░──╫──╫──╫──╫─┤M├──────\n",
       "        ├───┤ ░  ║  ║  ║  ║ └╥┘┌─┐   \n",
       "   q_5: ┤ X ├─░──╫──╫──╫──╫──╫─┤M├───\n",
       "        ├───┤ ░  ║  ║  ║  ║  ║ └╥┘┌─┐\n",
       "   q_6: ┤ X ├─░──╫──╫──╫──╫──╫──╫─┤M├\n",
       "        └───┘ ░  ║  ║  ║  ║  ║  ║ └╥┘\n",
       "meas: 7/═════════╩══╩══╩══╩══╩══╩══╩═\n",
       "                 0  1  2  3  4  5  6 "
      ]
     },
     "execution_count": 46,
     "metadata": {},
     "output_type": "execute_result"
    }
   ],
   "source": [
    "ones.draw()"
   ]
  },
  {
   "cell_type": "code",
   "execution_count": 57,
   "metadata": {},
   "outputs": [],
   "source": [
    "# run the circuit on the simulator\n",
    "backend = FakePerth()\n",
    "noise_model = NoiseModel.from_backend(backend)\n",
    "sampler = Sampler(options={\n",
    "    'backend_options': {\n",
    "        'noise_model': noise_model\n",
    "\t}\n",
    "})\n",
    "nshots = 1024\n",
    "\n",
    "zeros_transpiled = transpile(zeros, backend)\n",
    "zeros_job = sampler.run([zeros_transpiled], shots=nshots)\n",
    "zeros_pub_result = zeros_job.result()[0]\n",
    "\n",
    "zeros_counts = zeros_pub_result.data.meas.get_counts()\n",
    "\n",
    "\n",
    "ones_transpiled = transpile(ones, backend)\n",
    "ones_job = sampler.run([ones_transpiled], shots=nshots)\n",
    "ones_pub_result = ones_job.result()[0]\n",
    "\n",
    "ones_counts = ones_pub_result.data.meas.get_counts()"
   ]
  },
  {
   "cell_type": "code",
   "execution_count": 72,
   "metadata": {},
   "outputs": [],
   "source": [
    "ones_false_probs = 1 - get_probabilities_of_one(ones_counts)\n",
    "zeros_false_probs = get_probabilities_of_one(zeros_counts)"
   ]
  },
  {
   "cell_type": "code",
   "execution_count": 76,
   "metadata": {},
   "outputs": [
    {
     "data": {
      "text/plain": [
       "array([[8.01249835e-01, 1.35265613e-02, 1.75923118e-02, ...,\n",
       "        8.96866809e-10, 1.16644284e-09, 1.96916864e-11],\n",
       "       [1.90963218e-02, 7.95680075e-01, 4.19280518e-04, ...,\n",
       "        5.27568711e-08, 2.78000279e-11, 1.15833450e-09],\n",
       "       [2.47891666e-02, 4.18486427e-04, 7.94052981e-01, ...,\n",
       "        2.77473763e-11, 5.26489881e-08, 8.88811119e-10],\n",
       "       ...,\n",
       "       [9.04155772e-10, 3.76731572e-08, 1.98517235e-11, ...,\n",
       "        8.00339597e-01, 4.21735836e-04, 1.75723265e-02],\n",
       "       [1.17369556e-09, 1.98141256e-11, 3.75961189e-08, ...,\n",
       "        4.20937094e-04, 7.98702975e-01, 1.34835656e-02],\n",
       "       [2.79728832e-11, 1.16553680e-09, 8.96034612e-10, ...,\n",
       "        2.47610055e-02, 1.90356220e-02, 7.93150918e-01]], shape=(128, 128))"
      ]
     },
     "execution_count": 76,
     "metadata": {},
     "output_type": "execute_result"
    }
   ],
   "source": [
    "# calculate the read-out matrix\n",
    "zipped = np.array([zeros_false_probs, ones_false_probs]).T\n",
    "get_readout_error_matrix(zipped)"
   ]
  }
 ],
 "metadata": {
  "kernelspec": {
   "display_name": "qiskit1",
   "language": "python",
   "name": "python3"
  },
  "language_info": {
   "codemirror_mode": {
    "name": "ipython",
    "version": 3
   },
   "file_extension": ".py",
   "mimetype": "text/x-python",
   "name": "python",
   "nbconvert_exporter": "python",
   "pygments_lexer": "ipython3",
   "version": "3.12.6"
  }
 },
 "nbformat": 4,
 "nbformat_minor": 2
}
