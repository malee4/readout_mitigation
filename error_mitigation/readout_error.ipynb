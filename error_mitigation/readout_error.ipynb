{
 "cells": [
  {
   "cell_type": "markdown",
   "metadata": {},
   "source": [
    "# Read-out Error\n"
   ]
  },
  {
   "cell_type": "code",
   "execution_count": 90,
   "metadata": {},
   "outputs": [],
   "source": [
    "# import packages\n",
    "import numpy as np\n",
    "import scipy as sp\n",
    "\n",
    "import qiskit_aer.noise as noise\n",
    "from qiskit_aer.noise.errors import coherent_unitary_error, amplitude_damping_error, ReadoutError\n",
    "from qiskit.circuit.library import RXGate\n",
    "\n",
    "from qiskit_aer.primitives import SamplerV2 as Sampler\n",
    "from qiskit.circuit import QuantumCircuit\n",
    "from qiskit.circuit.random import random_circuit\n",
    "from qiskit.quantum_info import SparsePauliOp\n",
    "\n",
    "from qiskit_ibm_runtime.fake_provider import FakePerth\n",
    "from qiskit_aer import AerSimulator\n",
    "from qiskit import transpile\n",
    "from qiskit_aer.noise import NoiseModel\n",
    "\n",
    "from sklearn.linear_model import LinearRegression\n",
    "\n",
    "from qiskit.visualization import plot_histogram"
   ]
  },
  {
   "cell_type": "code",
   "execution_count": 4,
   "metadata": {},
   "outputs": [],
   "source": [
    "def iteration(matrix, p):\n",
    "\tSIGN = np.array([[-1, 1], [1, -1]])\n",
    "\n",
    "\tp = np.array(p)\n",
    "\t\n",
    "\tp = p.reshape((2, 1))\n",
    "\tp = p * SIGN\n",
    "\tp = p + np.eye(2)\n",
    "\n",
    "\t# reshape matrices\n",
    "\tp_flattened = p.reshape((1, p.size)) # p.size = 4\n",
    "\n",
    "\t# recursively calculate dimensions\n",
    "\tmatrix_new = np.ones((2 * matrix.shape[0], 2*matrix.shape[0]))\n",
    "\n",
    "\tfor j in range(matrix.shape[0]):\n",
    "\t\trow = matrix[j].reshape((matrix[j].size, 1))\n",
    "\t\tprod = row * p_flattened\n",
    "\t\tmatrix_new[(2*j)] = prod[:, 0:2].flatten()\n",
    "\t\tmatrix_new[(2*j + 1)] = prod[:, 2:4].flatten()\n",
    "\t\n",
    "\treturn matrix_new\n",
    "\n",
    "def iteration_inverse(matrix, p):\n",
    "\t# number of possible outputs in new array\n",
    "\tn = int(matrix.shape[0] / 2)\n",
    "\n",
    "\tSIGN = np.array([[-1, 1], [1, -1]])\n",
    "\n",
    "\tp = np.array(p)\n",
    "\n",
    "\tp = p.reshape((2, 1))\n",
    "\tp = p * SIGN\n",
    "\tp = p + np.eye(2)\n",
    "\n",
    "\t# reshape matrices\n",
    "\tp_flattened = p.reshape((1, p.size)) # p.size = 4\n",
    "\n",
    "\tmatrix_new = np.ones((n, n))\n",
    "\n",
    "\tfor j in range(n):\n",
    "\t\tprod = np.zeros((n, 4))\n",
    "\n",
    "\t\tprod[:, 0:2] = matrix[(2*j)].reshape((n, 2))\n",
    "\t\tprod[:, 2:4] = matrix[(2*j + 1)].reshape((n, 2))\n",
    "\n",
    "\t\t# compute the row\n",
    "\t\trow = (prod[:, 0] / p_flattened[0, 0]).T\n",
    "\n",
    "\t\tmatrix_new[j] = row\n",
    "\n",
    "\treturn matrix_new\n",
    "\n",
    "def compute_matrix_iterative(X):\n",
    "\t\"\"\"\n",
    "\targs:\n",
    "\t\tX: np.darray (Nx2) probability of false result listed from most to least significant bit\n",
    "\treturns:\n",
    "\t\toutput: np.darray (2^N x 2^N) matrix of readout errors\n",
    "\t\"\"\"\n",
    "\t# cast to np array\n",
    "\ttry:\n",
    "\t\tX = np.array(X)\n",
    "\texcept Exception as exception:\n",
    "\t\tprint(\"Must pass in valid datatype: array of numbers.\")\n",
    "\t\tprint(exception)\n",
    "\t\n",
    "\t# check array dimensions\n",
    "\tD = X.shape[1]\n",
    "\tif D != 2:\n",
    "\t\traise ValueError(\"Input probabilities must be in form [[probability of error when prepared 0, probability of error when prepared 1], ...]\")\n",
    "\n",
    "\t# number data points\n",
    "\tN = X.shape[0]\n",
    "\n",
    "\toutput = np.ones((1, 1))\n",
    "\n",
    "\t# goal shape: 2^N x 2^N\n",
    "\tfor i in range(N):\n",
    "\t\toutput = iteration(output, X[i])\n",
    "\n",
    "\treturn output"
   ]
  },
  {
   "cell_type": "code",
   "execution_count": 5,
   "metadata": {},
   "outputs": [
    {
     "data": {
      "text/plain": [
       "array([[0.99, 0.01],\n",
       "       [0.03, 0.97]])"
      ]
     },
     "execution_count": 5,
     "metadata": {},
     "output_type": "execute_result"
    }
   ],
   "source": [
    "probabilities = [\n",
    "    [0.01, 0.03]\n",
    "]\n",
    "compute_matrix_iterative(probabilities)"
   ]
  },
  {
   "cell_type": "code",
   "execution_count": 6,
   "metadata": {},
   "outputs": [
    {
     "name": "stdout",
     "output_type": "stream",
     "text": [
      "[[9.405e-01 4.950e-02 9.500e-03 5.000e-04]\n",
      " [1.980e-02 9.702e-01 2.000e-04 9.800e-03]\n",
      " [2.850e-02 1.500e-03 9.215e-01 4.850e-02]\n",
      " [6.000e-04 2.940e-02 1.940e-02 9.506e-01]]\n"
     ]
    }
   ],
   "source": [
    "probabilities = [\n",
    "    [0.01, 0.03],\n",
    "    [0.05, 0.02]\n",
    "]\n",
    "m = compute_matrix_iterative(probabilities)\n",
    "print(m)"
   ]
  },
  {
   "cell_type": "code",
   "execution_count": 7,
   "metadata": {},
   "outputs": [
    {
     "data": {
      "text/plain": [
       "array([[0.99, 0.01],\n",
       "       [0.03, 0.97]])"
      ]
     },
     "execution_count": 7,
     "metadata": {},
     "output_type": "execute_result"
    }
   ],
   "source": [
    "iteration_inverse(m, probabilities[1])"
   ]
  },
  {
   "cell_type": "code",
   "execution_count": 8,
   "metadata": {},
   "outputs": [],
   "source": [
    "def string_to_int_array(X):\n",
    "    return np.array(list(X)).astype(\"i\")"
   ]
  },
  {
   "cell_type": "code",
   "execution_count": null,
   "metadata": {},
   "outputs": [],
   "source": [
    "def get_probabilities_of_one(data):\n",
    "\t\"\"\"\n",
    "\targs:\n",
    "\t\tdata (dict) dictionary of {\"outcome\": counts}\n",
    "\n",
    "\treturns:\n",
    "\t\tprobabilities (1xN array) the value at index i is the probability of measuring a 1 for qubit i\n",
    "\t\"\"\"\n",
    "\n",
    "\tN = len(list(data.keys())[0])\n",
    "\t\n",
    "\ttotal_counts = np.zeros(N)\n",
    "\n",
    "\tfor key in list(data.keys()):\n",
    "\t\tcounts = data[key]\n",
    "\n",
    "\t\tarr = string_to_int_array(key)\n",
    "\t\t\n",
    "\t\ttotal_counts = total_counts + (counts * arr)\n",
    "\t\n",
    "\tnshots = np.sum(list(data.values()))\n",
    "\n",
    "\tprobabilities = total_counts / nshots\n",
    "\n",
    "\treturn probabilities"
   ]
  },
  {
   "cell_type": "code",
   "execution_count": 38,
   "metadata": {},
   "outputs": [
    {
     "data": {
      "text/plain": [
       "array([[0.5, 0.5],\n",
       "       [0.5, 0.5]])"
      ]
     },
     "execution_count": 38,
     "metadata": {},
     "output_type": "execute_result"
    }
   ],
   "source": [
    "import numpy as np\n",
    "from sklearn.linear_model import LinearRegression\n",
    "\n",
    "X = np.array([[0.1, 0.2], [0.3, 0.4]])\n",
    "Y = X\n",
    "reg = LinearRegression().fit(X, Y)\n",
    "reg.coef_"
   ]
  },
  {
   "cell_type": "code",
   "execution_count": 39,
   "metadata": {},
   "outputs": [
    {
     "data": {
      "text/plain": [
       "array([[0.2, 0.3],\n",
       "       [0.2, 0.3]])"
      ]
     },
     "execution_count": 39,
     "metadata": {},
     "output_type": "execute_result"
    }
   ],
   "source": [
    "reg.coef_ @ X"
   ]
  },
  {
   "cell_type": "code",
   "execution_count": 11,
   "metadata": {},
   "outputs": [],
   "source": [
    "def get_false_probability(backend, N:int, nshots:int):\n",
    "\t\"\"\" \n",
    "\tComputes the readout error matrix for N qubits.\n",
    "\t\n",
    "\targs:\n",
    "\t\tbackend (FakeBackend): \tgiven backend\n",
    "\t\tN (int):\t\t\t\tnumber qubits\n",
    "\t\tnshots:\t\t\t\t\toptional number of shots to take in computation\n",
    "\t\t\n",
    "\treturns:\n",
    "\t\tzipped: \t\t\t\tN x 2 probability of false positive/negative results\n",
    "\t\"\"\"\n",
    "\tzeros = QuantumCircuit(N)\n",
    "\tzeros.measure_all()\n",
    "\n",
    "\tones = QuantumCircuit(N)\n",
    "\tones.x(list(range(N)))\n",
    "\tones.measure_all()\n",
    "\t\n",
    "\tnoise_model = NoiseModel.from_backend(backend)\n",
    "\tsampler = Sampler(options={\n",
    "\t\t'backend_options': {\n",
    "\t\t\t'noise_model': noise_model\n",
    "\t\t}\n",
    "\t})\n",
    "\n",
    "\tzeros_transpiled = transpile(zeros, backend)\n",
    "\tzeros_job = sampler.run([zeros_transpiled], shots=nshots)\n",
    "\tzeros_pub_result = zeros_job.result()[0]\n",
    "\n",
    "\tzeros_counts = zeros_pub_result.data.meas.get_counts()\n",
    "\n",
    "\n",
    "\tones_transpiled = transpile(ones, backend)\n",
    "\tones_job = sampler.run([ones_transpiled], shots=nshots)\n",
    "\tones_pub_result = ones_job.result()[0]\n",
    "\n",
    "\tones_counts = ones_pub_result.data.meas.get_counts()\n",
    "\n",
    "\tones_false_probs = 1 - get_probabilities_of_one(ones_counts)\n",
    "\tzeros_false_probs = get_probabilities_of_one(zeros_counts)\n",
    "\n",
    "\tzipped = np.array([zeros_false_probs, ones_false_probs]).T\n",
    "\t\n",
    "\treturn zipped\n",
    "\n",
    "def get_calibration_matrix(backend, N:int, nshots:int=1024):\n",
    "\t\"\"\"\n",
    "\tComputes the readout error matrix for N qubits.\n",
    "\t\n",
    "\targs:\n",
    "\t\tbackend (FakeBackend): \tgiven backend\n",
    "\t\tN (int):\t\t\t\tnumber qubits\n",
    "\t\tnshots:\t\t\t\t\toptional number of shots to take in computation\n",
    "\t\t\n",
    "\treturns:\n",
    "\t\tcalibration_matrix (2^N x 2^N):\tmatrix to be applied to results for readout error mitigation.\n",
    "\t\"\"\"\n",
    "\tzipped = get_false_probability(backend, N, nshots)\n",
    "\terror_matrix = compute_matrix_iterative(zipped)\n",
    "\n",
    "\t# perform LU factorization\n",
    "\tP, L, U = sp.linalg.lu(error_matrix.T)\n",
    "\n",
    "\t# invert the L and U matrices\n",
    "\tL_inv = sp.linalg.inv(L)\n",
    "\tU_inv = sp.linalg.inv(U)\n",
    "\n",
    "\t# compute inverse\n",
    "\tcalibration_matrix = U_inv @ L_inv\n",
    "\n",
    "\treturn calibration_matrix"
   ]
  },
  {
   "cell_type": "code",
   "execution_count": 12,
   "metadata": {},
   "outputs": [],
   "source": [
    "def to_string(x:int, N:int):\n",
    "\treturn str(bin(x)).replace(\"0b\", \"\").zfill(N)\n",
    "\n",
    "def to_vector(counts:dict):\n",
    "\t\"\"\" \n",
    "\tReturns a vector of the counts, where the ith position is number of counts for result 0bi.\n",
    "\n",
    "\t\"\"\"\n",
    "\tN = len(list(counts.keys())[0])\n",
    "\tkeys = list(counts.keys())\n",
    "\n",
    "\tvector = np.zeros(2**N)\n",
    "\t\n",
    "\tfor i in range(0, 2**N):\n",
    "\t\tkey = to_string(i, N)\n",
    "\n",
    "\t\tif key in keys:\n",
    "\t\t\tvector[i] = counts[key]\n",
    "\n",
    "\treturn vector\n",
    "\n",
    "def to_dict(vector):\n",
    "\tcounts = {}\n",
    "\ttotal_states = vector.shape[0]\n",
    "\tN = int(np.log2(total_states))\n",
    "\n",
    "\tfor i in range(0, total_states):\n",
    "\t\tkey = to_string(i, N)\n",
    "\t\tvalue = round(vector[i])\n",
    "\t\tif value != 0:\n",
    "\t\t\tcounts[key] = round(vector[i])\n",
    "\n",
    "\treturn counts"
   ]
  },
  {
   "cell_type": "markdown",
   "metadata": {},
   "source": [
    "## Basic Readout Error\n",
    "\n",
    "We consider a simple case of read-out error mitigation."
   ]
  },
  {
   "cell_type": "code",
   "execution_count": 88,
   "metadata": {},
   "outputs": [],
   "source": [
    "backend = AerSimulator.from_backend(FakePerth())\n",
    "\n",
    "N = 7\n",
    "calibration_matrix = get_calibration_matrix(backend, N)"
   ]
  },
  {
   "cell_type": "markdown",
   "metadata": {},
   "source": [
    "## Testing"
   ]
  },
  {
   "cell_type": "code",
   "execution_count": 78,
   "metadata": {},
   "outputs": [
    {
     "data": {
      "text/html": [
       "<pre style=\"word-wrap: normal;white-space: pre;background: #fff0;line-height: 1.1;font-family: &quot;Courier New&quot;,Courier,monospace\">           ┌──────┐           ┌─┐                  \n",
       "q_0: ──────┤1     ├───────────┤M├──────────────────\n",
       "           │      │      ┌───┐└╥┘┌─┐               \n",
       "q_1: ──────┤  Dcx ├──────┤ Y ├─╫─┤M├───────────────\n",
       "           │      │      └─┬─┘ ║ └╥┘┌─┐            \n",
       "q_2: ──────┤0     ├────────┼───╫──╫─┤M├────────────\n",
       "          ┌┴──────┴┐       │   ║  ║ └╥┘┌─┐         \n",
       "q_3: ─────┤0       ├───────┼───╫──╫──╫─┤M├─────────\n",
       "          │  Iswap │       │   ║  ║  ║ └╥┘┌─┐      \n",
       "q_4: ─────┤1       ├───────┼───╫──╫──╫──╫─┤M├──────\n",
       "     ┌────┴────────┴────┐  │   ║  ║  ║  ║ └╥┘┌─┐   \n",
       "q_5: ┤ R(4.8482,3.1423) ├──┼───╫──╫──╫──╫──╫─┤M├───\n",
       "     └──────────────────┘  │   ║  ║  ║  ║  ║ └╥┘┌─┐\n",
       "q_6: ──────────────────────■───╫──╫──╫──╫──╫──╫─┤M├\n",
       "                               ║  ║  ║  ║  ║  ║ └╥┘\n",
       "c: 7/══════════════════════════╩══╩══╩══╩══╩══╩══╩═\n",
       "                               0  1  2  3  4  5  6 </pre>"
      ],
      "text/plain": [
       "           ┌──────┐           ┌─┐                  \n",
       "q_0: ──────┤1     ├───────────┤M├──────────────────\n",
       "           │      │      ┌───┐└╥┘┌─┐               \n",
       "q_1: ──────┤  Dcx ├──────┤ Y ├─╫─┤M├───────────────\n",
       "           │      │      └─┬─┘ ║ └╥┘┌─┐            \n",
       "q_2: ──────┤0     ├────────┼───╫──╫─┤M├────────────\n",
       "          ┌┴──────┴┐       │   ║  ║ └╥┘┌─┐         \n",
       "q_3: ─────┤0       ├───────┼───╫──╫──╫─┤M├─────────\n",
       "          │  Iswap │       │   ║  ║  ║ └╥┘┌─┐      \n",
       "q_4: ─────┤1       ├───────┼───╫──╫──╫──╫─┤M├──────\n",
       "     ┌────┴────────┴────┐  │   ║  ║  ║  ║ └╥┘┌─┐   \n",
       "q_5: ┤ R(4.8482,3.1423) ├──┼───╫──╫──╫──╫──╫─┤M├───\n",
       "     └──────────────────┘  │   ║  ║  ║  ║  ║ └╥┘┌─┐\n",
       "q_6: ──────────────────────■───╫──╫──╫──╫──╫──╫─┤M├\n",
       "                               ║  ║  ║  ║  ║  ║ └╥┘\n",
       "c: 7/══════════════════════════╩══╩══╩══╩══╩══╩══╩═\n",
       "                               0  1  2  3  4  5  6 "
      ]
     },
     "execution_count": 78,
     "metadata": {},
     "output_type": "execute_result"
    }
   ],
   "source": [
    "# define the circuit\n",
    "from qiskit.circuit.random import random_circuit\n",
    "\n",
    "nshots = 1024\n",
    " \n",
    "# generate a random circuit\n",
    "circuit = random_circuit(N, 1, measure=True)\n",
    "circuit.draw()"
   ]
  },
  {
   "cell_type": "code",
   "execution_count": 134,
   "metadata": {},
   "outputs": [],
   "source": [
    "nshots = 1024"
   ]
  },
  {
   "cell_type": "code",
   "execution_count": 135,
   "metadata": {},
   "outputs": [
    {
     "data": {
      "text/plain": [
       "{'0100000': 438, '0000000': 586}"
      ]
     },
     "execution_count": 135,
     "metadata": {},
     "output_type": "execute_result"
    }
   ],
   "source": [
    "# get ideal results\n",
    "ideal_backend = AerSimulator()\n",
    "\n",
    "ideal_transpiled = transpile(circuit, ideal_backend)\n",
    "ideal_result = ideal_backend.run(ideal_transpiled, shots=nshots).result()\n",
    "ideal_counts = ideal_result.get_counts(ideal_transpiled)\n",
    "ideal_counts"
   ]
  },
  {
   "cell_type": "code",
   "execution_count": 136,
   "metadata": {},
   "outputs": [],
   "source": [
    "# get the noisy results\n",
    "noisy_backend = FakePerth()\n",
    "noise_model = NoiseModel.from_backend(noisy_backend)\n",
    "sampler = Sampler(options={\n",
    "    'backend_options': {\n",
    "        'noise_model': noise_model\n",
    "\t}\n",
    "})\n",
    "\n",
    "noisy_transpiled = transpile(circuit, noisy_backend)\n",
    "noisy_job = sampler.run([noisy_transpiled], shots=nshots)\n",
    "noisy_pub_result = noisy_job.result()[0]\n",
    "noisy_counts = noisy_pub_result.data.c.get_counts()"
   ]
  },
  {
   "cell_type": "code",
   "execution_count": null,
   "metadata": {},
   "outputs": [
    {
     "data": {
      "image/png": "[encoded data removed]",
      "text/plain": [
       "<Figure size 640x480 with 1 Axes>"
      ]
     },
     "execution_count": 81,
     "metadata": {},
     "output_type": "execute_result"
    }
   ],
   "source": [
    "plot_histogram([ideal_counts, noisy_counts], legend=[\"Ideal\", \"Noisy\"])"
   ]
  },
  {
   "cell_type": "code",
   "execution_count": 82,
   "metadata": {},
   "outputs": [
    {
     "data": {
      "image/png": "[encoded data removed]",
      "text/plain": [
       "<Figure size 640x480 with 1 Axes>"
      ]
     },
     "execution_count": 82,
     "metadata": {},
     "output_type": "execute_result"
    }
   ],
   "source": [
    "# mitigate the noisy results\n",
    "noisy_probabilities = to_vector(noisy_counts) / nshots\n",
    "mitigated_probabilities = calibration_matrix @ noisy_probabilities\n",
    "mitigated_counts = to_dict(mitigated_probabilities * nshots)\n",
    "\n",
    "# plot mitigated versus ideal\n",
    "plot_histogram([ideal_counts, noisy_counts, mitigated_counts], legend=[\"Ideal\", \"Noisy\", \"Mitigated\"])"
   ]
  },
  {
   "cell_type": "markdown",
   "metadata": {},
   "source": [
    "## Iterative Readout Error Model Personalization"
   ]
  },
  {
   "cell_type": "code",
   "execution_count": 124,
   "metadata": {},
   "outputs": [
    {
     "data": {
      "text/plain": [
       "array([[1., 0.],\n",
       "       [0., 1.],\n",
       "       [1., 0.],\n",
       "       [0., 1.],\n",
       "       [1., 0.],\n",
       "       [0., 1.]])"
      ]
     },
     "execution_count": 124,
     "metadata": {},
     "output_type": "execute_result"
    }
   ],
   "source": [
    "x = np.array([[1, 2], [3, 4], [5, 6]])\n",
    "y = x.reshape((6, 1))\n",
    "SIGN = np.array([[-1, 1], [1, -1]])\n",
    "\n",
    "t = np.zeros((8, 2))\n",
    "t = np.tile(SIGN, (3, 1))\n",
    "y * t\n",
    "\n",
    "np.tile(np.eye(2), (3, 1))"
   ]
  },
  {
   "cell_type": "code",
   "execution_count": 129,
   "metadata": {},
   "outputs": [
    {
     "data": {
      "text/plain": [
       "array([[1, 2],\n",
       "       [3, 4]])"
      ]
     },
     "execution_count": 129,
     "metadata": {},
     "output_type": "execute_result"
    }
   ],
   "source": [
    "x = np.array([[1, 2], [3, 4], [5, 6], [7, 8]])\n",
    "x.reshape((2, 2, 2))"
   ]
  },
  {
   "cell_type": "code",
   "execution_count": 98,
   "metadata": {},
   "outputs": [],
   "source": [
    "def unfold_false_probabilities(X, N):\n",
    "\tSIGN = np.array([[-1, 1], [1, -1]])\n",
    "\tflattened = X.reshape((2*N, 1))\n",
    "\tmask = np.tile(SIGN, (N, 1))\n",
    "\tprobabilities = flattened * mask + np.tile(np.eye(2), (N, 1))\n",
    "\tprobabilities = probabilities.reshape((N, 2, 2)) # reshape\n",
    "\treturn probabilities\n",
    "\n",
    "def fold_false_probabilities(X):\n",
    "\treturn X.diagonal(axis1=1, axis2=2)"
   ]
  },
  {
   "cell_type": "code",
   "execution_count": 109,
   "metadata": {},
   "outputs": [],
   "source": [
    "def personalize(backend, N:int, circuits:list, nshots:int=1024, alpha=0.2):\n",
    "    # obtain initial probabilities\n",
    "\tinit_probabilities = get_false_probability(backend, N, nshots) # Nx2\n",
    "\n",
    "\t# convert into Nx4 matrix of all probabiliies\n",
    "\tprobabilities = unfold_false_probabilities(init_probabilities, N)\n",
    "\n",
    "\tnoise_model = NoiseModel.from_backend(backend)\n",
    "\tnoisy_sampler = Sampler(options={\n",
    "\t\t'backend_options': {\n",
    "\t\t\t'noise_model': noise_model\n",
    "\t\t}\n",
    "\t})\n",
    "\n",
    "\tideal_backend = AerSimulator()\n",
    "\n",
    "\t# number test data points\n",
    "\tD = len(circuits)\n",
    "\ttraining_x = np.zeros((N, 2, D))\n",
    "\ttraining_y = np.zeros((N, 2, D))\n",
    "\n",
    "\tprint(\"Obtaining data...\")\n",
    "\titeration = 0\n",
    "\n",
    "\t# obtain training data\n",
    "\tfor circuit in circuits:\n",
    "\t\tif iteration % 10 == 0:\n",
    "\t\t\tprint(f\"Iteration {iteration} of {len(circuits)}\")\n",
    "\t\t\n",
    "        # get ideal circuit vector\n",
    "\t\tideal_transpiled = transpile(circuit, ideal_backend)\n",
    "\t\tideal_result = ideal_backend.run(ideal_transpiled, shots=nshots).result()\n",
    "\t\tideal_counts = ideal_result.get_counts(ideal_transpiled)\n",
    "\n",
    "\t\tideal_ones = get_probabilities_of_one(ideal_counts)\n",
    "\t\tideal_zeros = 1 - ideal_ones\n",
    "\t\tx = np.array([ideal_zeros, ideal_ones]).T\n",
    "\t\t\n",
    "\t\t# get noisy circuit vector\n",
    "\t\tnoisy_transpiled = transpile(circuit, backend)\n",
    "\t\tnoisy_job = noisy_sampler.run([noisy_transpiled], shots=nshots)\n",
    "\t\tnoisy_result = noisy_job.result()[0]\n",
    "\t\tnoisy_counts = noisy_result.data.c.get_counts()\n",
    "\t\t\n",
    "\t\tnoisy_ones = get_probabilities_of_one(noisy_counts)\n",
    "\t\tnoisy_zeros = 1 - noisy_ones\n",
    "\t\ty = np.array([noisy_zeros, noisy_ones]).T\n",
    "\n",
    "\t\tfor i in range(N):\n",
    "\t\t\ttraining_x[i, :, i] = x[i]\n",
    "\t\t\ttraining_y[i, :, i] = y[i]\n",
    "\t\t\n",
    "\t\titeration += 1\n",
    "\t\n",
    "\t# train \n",
    "\tprint()\n",
    "\tprint(\"Training...\")\n",
    "\tfor i in range(N):\n",
    "\t\tprint(f\"Qubit: {i}\")\n",
    "\t\tx = training_x[i].T\n",
    "\t\ty = training_y[i].T\n",
    "\n",
    "\t\treg = LinearRegression().fit(x, y)\n",
    "\t\tprobabilities[i] = (1 - alpha) * probabilities[i] + alpha * reg.coef_\n",
    "\t\n",
    "\tupdated_zipped = fold_false_probabilities(probabilities)\n",
    "\n",
    "\terror_matrix = compute_matrix_iterative(updated_zipped)\n",
    "\n",
    "\t# perform LU factorization\n",
    "\tP, L, U = sp.linalg.lu(error_matrix.T)\n",
    "\n",
    "\t# invert the L and U matrices\n",
    "\tL_inv = sp.linalg.inv(L)\n",
    "\tU_inv = sp.linalg.inv(U)\n",
    "\n",
    "\t# compute inverse\n",
    "\tcalibration_matrix = U_inv @ L_inv\n",
    "\n",
    "\treturn calibration_matrix\n",
    "\t\t"
   ]
  },
  {
   "cell_type": "code",
   "execution_count": 108,
   "metadata": {},
   "outputs": [
    {
     "name": "stdout",
     "output_type": "stream",
     "text": [
      "Obtaining data...\n",
      "Iteration 0 of 100\n",
      "Iteration 10 of 100\n",
      "Iteration 20 of 100\n",
      "Iteration 30 of 100\n",
      "Iteration 40 of 100\n",
      "Iteration 50 of 100\n",
      "Iteration 60 of 100\n",
      "Iteration 70 of 100\n",
      "Iteration 80 of 100\n",
      "Iteration 90 of 100\n",
      "\n",
      "Training...\n",
      "Qubit: 0\n",
      "Qubit: 1\n",
      "Qubit: 2\n",
      "Qubit: 3\n",
      "Qubit: 4\n",
      "Qubit: 5\n",
      "Qubit: 6\n",
      "[[3.27836755e-06 1.19609653e-05 1.20813680e-05 ... 6.46373521e-02\n",
      "  6.52880114e-02 2.38200149e-01]\n",
      " [1.46284271e-05 6.10905734e-07 5.39083579e-05 ... 3.30134969e-03\n",
      "  2.91322099e-01 1.21660613e-02]\n",
      " [1.46554489e-05 5.34696957e-05 7.04286660e-07 ... 2.88951558e-01\n",
      "  3.80598252e-03 1.38859430e-02]\n",
      " ...\n",
      " [1.20496320e-01 5.03211265e-03 4.44050391e-01 ... 1.82202330e-08\n",
      "  1.60781409e-06 6.71448022e-08]\n",
      " [1.20718903e-01 4.40437072e-01 5.80130390e-03 ... 1.59473101e-06\n",
      "  2.10053145e-08 7.66368731e-08]\n",
      " [5.38660672e-01 2.24953025e-02 2.58860393e-02 ... 8.14508106e-08\n",
      "  9.37279629e-08 3.91422465e-09]]\n"
     ]
    }
   ],
   "source": [
    "# generate circuits\n",
    "D = 1_00\n",
    "N = 7\n",
    "depth=4\n",
    "\n",
    "backend = FakePerth()\n",
    "\n",
    "circuits = []\n",
    "for _ in range(D):\n",
    "    circuit = random_circuit(N, depth, measure=True)\n",
    "    circuits.append(circuit)\n",
    "    \n",
    "personalized_calibration = personalize(backend, N, circuits, nshots=1024)"
   ]
  },
  {
   "cell_type": "code",
   "execution_count": 126,
   "metadata": {},
   "outputs": [],
   "source": [
    "def mse(prob1, prob2):\n",
    "\terror = np.sum(np.square(np.abs(prob1 - prob2)))\n",
    "\treturn error\n",
    "\n",
    "def fidelity(counts_ideal, counts_exp):\n",
    "\tprobs_ideal = to_vector(counts_ideal) / np.sum(list(counts_ideal.values()))\n",
    "\tprobs_exp = to_vector(counts_exp) / np.sum(list(counts_exp.values()))\n",
    "\ttotal = 0.0\n",
    "\tfor state in list(counts_ideal.keys()):\n",
    "\t\tindex = int(state, 2)\n",
    "\t\tp_ideal = probs_ideal[index]\n",
    "\t\tp_exp = probs_exp[index]\n",
    "\n",
    "\t\ttotal += np.square(p_ideal - p_exp)\n",
    "\treturn total\n",
    "\n",
    "def hamming_distance(counts_ideal, counts_exp):\n",
    "\tdistance = 0\n",
    "\n",
    "\tshots_ideal = np.sum(list(counts_ideal.values()))\n",
    "\tshots_exp = np.sum(list(counts_exp.values()))\n",
    "\n",
    "\tfor state in list(counts_ideal.keys()):\n",
    "\t\tif state not in list(counts_exp.keys()):\n",
    "\t\t\tdistance += counts_ideal[state] / shots_ideal\n",
    "\t\n",
    "\tfor state in list(counts_exp.keys()):\n",
    "\t\tif state not in list(counts_ideal.keys()):\n",
    "\t\t\tdistance += counts_exp[state] / shots_exp\n",
    "\t\t\n",
    "\treturn distance\n",
    "\t"
   ]
  },
  {
   "cell_type": "code",
   "execution_count": 110,
   "metadata": {},
   "outputs": [],
   "source": [
    "nshots = 1024\n",
    "# get ideal results\n",
    "ideal_backend = AerSimulator()\n",
    "\n",
    "ideal_transpiled = transpile(circuit, ideal_backend)\n",
    "ideal_result = ideal_backend.run(ideal_transpiled, shots=nshots).result()\n",
    "ideal_counts = ideal_result.get_counts(ideal_transpiled)\n",
    "\n",
    "# get the noisy results\n",
    "noisy_backend = FakePerth()\n",
    "noise_model = NoiseModel.from_backend(noisy_backend)\n",
    "sampler = Sampler(options={\n",
    "    'backend_options': {\n",
    "        'noise_model': noise_model\n",
    "\t}\n",
    "})\n",
    "\n",
    "noisy_transpiled = transpile(circuit, noisy_backend)\n",
    "noisy_job = sampler.run([noisy_transpiled], shots=nshots)\n",
    "noisy_pub_result = noisy_job.result()[0]\n",
    "noisy_counts = noisy_pub_result.data.c.get_counts()"
   ]
  },
  {
   "cell_type": "code",
   "execution_count": 111,
   "metadata": {},
   "outputs": [],
   "source": [
    "# mitigate the noisy results\n",
    "noisy_probabilities = to_vector(noisy_counts) / nshots\n",
    "mitigated_probabilities = calibration_matrix @ noisy_probabilities\n",
    "mitigated_counts = to_dict(mitigated_probabilities * nshots)\n",
    "\n",
    "personalized_probabilities = personalized_calibration @ noisy_probabilities\n",
    "personalized_counts = to_dict(personalized_probabilities * nshots)"
   ]
  },
  {
   "cell_type": "code",
   "execution_count": 112,
   "metadata": {},
   "outputs": [
    {
     "data": {
      "image/png": "[encoded data removed]",
      "text/plain": [
       "<Figure size 640x480 with 1 Axes>"
      ]
     },
     "execution_count": 112,
     "metadata": {},
     "output_type": "execute_result"
    }
   ],
   "source": [
    "# plot mitigated versus ideal\n",
    "plot_histogram([ideal_counts, mitigated_counts, personalized_counts], legend=[\"Ideal\", \"Mitigated\", \"Personalized\"])"
   ]
  },
  {
   "cell_type": "code",
   "execution_count": 120,
   "metadata": {},
   "outputs": [],
   "source": [
    "ideal_probs = to_vector(ideal_counts) / np.sum(list(ideal_counts.values()))\n",
    "mitigated_probs = to_vector(mitigated_counts) / np.sum(list(mitigated_counts.values()))\n",
    "personalized_probs = to_vector(personalized_counts) / np.sum(list(personalized_counts.values()))"
   ]
  },
  {
   "cell_type": "code",
   "execution_count": 127,
   "metadata": {},
   "outputs": [
    {
     "name": "stdout",
     "output_type": "stream",
     "text": [
      "MSE\n",
      "0.030717849731445312\n",
      "0.03236916843869362\n",
      "\n",
      "Fidelity\n",
      "0.0274810791015625\n",
      "0.029036415482555002\n",
      "\n",
      "Hamming distance\n",
      "0.2138671875\n",
      "0.1838559399319066\n"
     ]
    }
   ],
   "source": [
    "print(\"MSE\")\n",
    "print(mse(ideal_probs, mitigated_probs))\n",
    "print(mse(ideal_probs, personalized_probs))\n",
    "\n",
    "print()\n",
    "print(\"Fidelity\")\n",
    "print(fidelity(ideal_counts, mitigated_counts))\n",
    "print(fidelity(ideal_counts, personalized_counts))\n",
    "\n",
    "print()\n",
    "print(\"Hamming distance\")\n",
    "print(hamming_distance(ideal_counts, mitigated_counts))\n",
    "print(hamming_distance(ideal_counts, personalized_counts))"
   ]
  },
  {
   "cell_type": "code",
   "execution_count": 114,
   "metadata": {},
   "outputs": [],
   "source": [
    "test_size = 100\n",
    "test_circuits = [random_circuit(N, depth, measure=True) for i in range(test_size)]"
   ]
  },
  {
   "cell_type": "code",
   "execution_count": null,
   "metadata": {},
   "outputs": [],
   "source": []
  }
 ],
 "metadata": {
  "kernelspec": {
   "display_name": "qiskit1",
   "language": "python",
   "name": "python3"
  },
  "language_info": {
   "codemirror_mode": {
    "name": "ipython",
    "version": 3
   },
   "file_extension": ".py",
   "mimetype": "text/x-python",
   "name": "python",
   "nbconvert_exporter": "python",
   "pygments_lexer": "ipython3",
   "version": "3.12.6"
  }
 },
 "nbformat": 4,
 "nbformat_minor": 2
}
